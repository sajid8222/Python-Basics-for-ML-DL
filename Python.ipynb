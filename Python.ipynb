{
 "cells": [
  {
   "cell_type": "code",
   "execution_count": 1,
   "id": "b7f169a2",
   "metadata": {},
   "outputs": [],
   "source": [
    "first_name='Sajid'\n",
    "last_name='Alam'"
   ]
  },
  {
   "cell_type": "code",
   "execution_count": 3,
   "id": "18f384bf",
   "metadata": {},
   "outputs": [
    {
     "name": "stdout",
     "output_type": "stream",
     "text": [
      "My first name is Sajid and the last name is Alam\n"
     ]
    }
   ],
   "source": [
    "print(\"My first name is {} and the last name is {}\".format(first_name,last_name))"
   ]
  },
  {
   "cell_type": "code",
   "execution_count": 4,
   "id": "b6875097",
   "metadata": {},
   "outputs": [
    {
     "name": "stdout",
     "output_type": "stream",
     "text": [
      "My first name is Sajid and the last name is Alam\n"
     ]
    }
   ],
   "source": [
    "print(\"My first name is {first} and the last name is {last}\".format(first=first_name,last=last_name))"
   ]
  },
  {
   "cell_type": "code",
   "execution_count": 5,
   "id": "bdfb3932",
   "metadata": {},
   "outputs": [
    {
     "data": {
      "text/plain": [
       "5"
      ]
     },
     "execution_count": 5,
     "metadata": {},
     "output_type": "execute_result"
    }
   ],
   "source": [
    "len('sajid')"
   ]
  },
  {
   "cell_type": "code",
   "execution_count": 6,
   "id": "36e3a3d0",
   "metadata": {},
   "outputs": [
    {
     "data": {
      "text/plain": [
       "str"
      ]
     },
     "execution_count": 6,
     "metadata": {},
     "output_type": "execute_result"
    }
   ],
   "source": [
    "type(\"Sajid\")"
   ]
  },
  {
   "cell_type": "code",
   "execution_count": 7,
   "id": "3017d9f3",
   "metadata": {},
   "outputs": [
    {
     "data": {
      "text/plain": [
       "list"
      ]
     },
     "execution_count": 7,
     "metadata": {},
     "output_type": "execute_result"
    }
   ],
   "source": [
    "type([1,2,3])"
   ]
  },
  {
   "cell_type": "markdown",
   "id": "f4f25007",
   "metadata": {},
   "source": [
    "# Python Data structures and Boolean"
   ]
  },
  {
   "cell_type": "markdown",
   "id": "38da2ffe",
   "metadata": {},
   "source": [
    "- Boolean\n",
    "- Boolean and logical Operators \n",
    "- lists\n",
    "- Comparison operators\n",
    "- Dictionaries \n",
    "- Tuples\n",
    "- Sets"
   ]
  },
  {
   "cell_type": "markdown",
   "id": "caa58e65",
   "metadata": {},
   "source": [
    "## Boolean Variables"
   ]
  },
  {
   "cell_type": "markdown",
   "id": "07e65e29",
   "metadata": {},
   "source": [
    "Boolean values are the two constant objects False and True\n",
    "\n",
    "They are used to represent truth values(other values can also be considered false or true).\n",
    "\n",
    "In numeroc contexts (for example, when used as the argumemts to an arithmetic operators), they behave like the integers 0 and 1 respectively.\n",
    "\n",
    "They are written as Flase and True, respectively."
   ]
  },
  {
   "cell_type": "code",
   "execution_count": 9,
   "id": "b34a9138",
   "metadata": {},
   "outputs": [
    {
     "name": "stdout",
     "output_type": "stream",
     "text": [
      "True False\n"
     ]
    }
   ],
   "source": [
    "print(True, False)"
   ]
  },
  {
   "cell_type": "code",
   "execution_count": 10,
   "id": "b2ec120f",
   "metadata": {},
   "outputs": [
    {
     "data": {
      "text/plain": [
       "False"
      ]
     },
     "execution_count": 10,
     "metadata": {},
     "output_type": "execute_result"
    }
   ],
   "source": [
    "bool()"
   ]
  },
  {
   "cell_type": "code",
   "execution_count": 11,
   "id": "4b139c93",
   "metadata": {},
   "outputs": [],
   "source": [
    "my_str= \"SDN NETWORKING\""
   ]
  },
  {
   "cell_type": "code",
   "execution_count": 13,
   "id": "4159d924",
   "metadata": {},
   "outputs": [
    {
     "name": "stdout",
     "output_type": "stream",
     "text": [
      "False\n",
      "False\n",
      "False\n",
      "False\n",
      "True\n",
      "False\n",
      "False\n",
      "False\n",
      "False\n"
     ]
    }
   ],
   "source": [
    "print(my_str.isalnum()) # To check if all char are numbers\n",
    "print(my_str.isalpha()) #check if all char in the string are alphabetic\n",
    "print(my_str.isdigit()) #test if string contains digits\n",
    "print(my_str.istitle()) #test if string contains title words\n",
    "print(my_str.isupper()) #test if string contains upper case\n",
    "print(my_str.islower()) #test if string contains lower case\n",
    "print(my_str.isspace()) #test if string contains spaces\n",
    "print(my_str.endswith('k')) #test if string endswith a d\n",
    "print(my_str.startswith('K')) #test if string startswith H"
   ]
  },
  {
   "cell_type": "markdown",
   "id": "239dcf92",
   "metadata": {},
   "source": [
    "\n",
    "# Boolean and logical Operattors"
   ]
  },
  {
   "cell_type": "code",
   "execution_count": 14,
   "id": "02e7ee37",
   "metadata": {},
   "outputs": [
    {
     "data": {
      "text/plain": [
       "True"
      ]
     },
     "execution_count": 14,
     "metadata": {},
     "output_type": "execute_result"
    }
   ],
   "source": [
    "True and True"
   ]
  },
  {
   "cell_type": "code",
   "execution_count": 15,
   "id": "b880e94a",
   "metadata": {},
   "outputs": [
    {
     "data": {
      "text/plain": [
       "False"
      ]
     },
     "execution_count": 15,
     "metadata": {},
     "output_type": "execute_result"
    }
   ],
   "source": [
    "True and False"
   ]
  },
  {
   "cell_type": "code",
   "execution_count": 16,
   "id": "42ba43df",
   "metadata": {},
   "outputs": [
    {
     "data": {
      "text/plain": [
       "True"
      ]
     },
     "execution_count": 16,
     "metadata": {},
     "output_type": "execute_result"
    }
   ],
   "source": [
    "True or False "
   ]
  },
  {
   "cell_type": "code",
   "execution_count": 17,
   "id": "68d83636",
   "metadata": {},
   "outputs": [
    {
     "data": {
      "text/plain": [
       "True"
      ]
     },
     "execution_count": 17,
     "metadata": {},
     "output_type": "execute_result"
    }
   ],
   "source": [
    "True or True\n"
   ]
  },
  {
   "cell_type": "code",
   "execution_count": 18,
   "id": "180e4a30",
   "metadata": {},
   "outputs": [],
   "source": [
    "str_example = 'Hello world'\n",
    "my_str = 'Krish'"
   ]
  },
  {
   "cell_type": "code",
   "execution_count": 19,
   "id": "c8070e3b",
   "metadata": {},
   "outputs": [
    {
     "data": {
      "text/plain": [
       "True"
      ]
     },
     "execution_count": 19,
     "metadata": {},
     "output_type": "execute_result"
    }
   ],
   "source": [
    "my_str.isalpha() or str_example.isnumeric()"
   ]
  },
  {
   "cell_type": "code",
   "execution_count": null,
   "id": "1c9d9f0f",
   "metadata": {},
   "outputs": [],
   "source": []
  }
 ],
 "metadata": {
  "kernelspec": {
   "display_name": "Python 3",
   "language": "python",
   "name": "python3"
  },
  "language_info": {
   "codemirror_mode": {
    "name": "ipython",
    "version": 3
   },
   "file_extension": ".py",
   "mimetype": "text/x-python",
   "name": "python",
   "nbconvert_exporter": "python",
   "pygments_lexer": "ipython3",
   "version": "3.9.5"
  }
 },
 "nbformat": 4,
 "nbformat_minor": 5
}
