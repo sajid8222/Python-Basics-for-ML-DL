{
 "cells": [
  {
   "cell_type": "code",
   "execution_count": 1,
   "id": "b7f169a2",
   "metadata": {},
   "outputs": [],
   "source": [
    "first_name='Sajid'\n",
    "last_name='Alam'"
   ]
  },
  {
   "cell_type": "code",
   "execution_count": 3,
   "id": "18f384bf",
   "metadata": {},
   "outputs": [
    {
     "name": "stdout",
     "output_type": "stream",
     "text": [
      "My first name is Sajid and the last name is Alam\n"
     ]
    }
   ],
   "source": [
    "print(\"My first name is {} and the last name is {}\".format(first_name,last_name))"
   ]
  },
  {
   "cell_type": "code",
   "execution_count": 4,
   "id": "b6875097",
   "metadata": {},
   "outputs": [
    {
     "name": "stdout",
     "output_type": "stream",
     "text": [
      "My first name is Sajid and the last name is Alam\n"
     ]
    }
   ],
   "source": [
    "print(\"My first name is {first} and the last name is {last}\".format(first=first_name,last=last_name))"
   ]
  },
  {
   "cell_type": "code",
   "execution_count": 5,
   "id": "bdfb3932",
   "metadata": {},
   "outputs": [
    {
     "data": {
      "text/plain": [
       "5"
      ]
     },
     "execution_count": 5,
     "metadata": {},
     "output_type": "execute_result"
    }
   ],
   "source": [
    "len('sajid')"
   ]
  },
  {
   "cell_type": "code",
   "execution_count": 6,
   "id": "36e3a3d0",
   "metadata": {},
   "outputs": [
    {
     "data": {
      "text/plain": [
       "str"
      ]
     },
     "execution_count": 6,
     "metadata": {},
     "output_type": "execute_result"
    }
   ],
   "source": [
    "type(\"Sajid\")"
   ]
  },
  {
   "cell_type": "code",
   "execution_count": 7,
   "id": "3017d9f3",
   "metadata": {},
   "outputs": [
    {
     "data": {
      "text/plain": [
       "list"
      ]
     },
     "execution_count": 7,
     "metadata": {},
     "output_type": "execute_result"
    }
   ],
   "source": [
    "type([1,2,3])"
   ]
  },
  {
   "cell_type": "markdown",
   "id": "f4f25007",
   "metadata": {},
   "source": [
    "# Python Data structures and Boolean"
   ]
  },
  {
   "cell_type": "markdown",
   "id": "38da2ffe",
   "metadata": {},
   "source": [
    "- Boolean\n",
    "- Boolean and logical Operators \n",
    "- lists\n",
    "- Comparison operators\n",
    "- Dictionaries \n",
    "- Tuples\n",
    "- Sets"
   ]
  },
  {
   "cell_type": "markdown",
   "id": "caa58e65",
   "metadata": {},
   "source": [
    "## Boolean Variables"
   ]
  },
  {
   "cell_type": "markdown",
   "id": "07e65e29",
   "metadata": {},
   "source": [
    "Boolean values are the two constant objects False and True\n",
    "\n",
    "They are used to represent truth values(other values can also be considered false or true).\n",
    "\n",
    "In numeroc contexts (for example, when used as the argumemts to an arithmetic operators), they behave like the integers 0 and 1 respectively.\n",
    "\n",
    "They are written as Flase and True, respectively."
   ]
  },
  {
   "cell_type": "code",
   "execution_count": 9,
   "id": "b34a9138",
   "metadata": {},
   "outputs": [
    {
     "name": "stdout",
     "output_type": "stream",
     "text": [
      "True False\n"
     ]
    }
   ],
   "source": [
    "print(True, False)"
   ]
  },
  {
   "cell_type": "code",
   "execution_count": 10,
   "id": "b2ec120f",
   "metadata": {},
   "outputs": [
    {
     "data": {
      "text/plain": [
       "False"
      ]
     },
     "execution_count": 10,
     "metadata": {},
     "output_type": "execute_result"
    }
   ],
   "source": [
    "bool()"
   ]
  },
  {
   "cell_type": "code",
   "execution_count": 11,
   "id": "4b139c93",
   "metadata": {},
   "outputs": [],
   "source": [
    "my_str= \"SDN NETWORKING\""
   ]
  },
  {
   "cell_type": "code",
   "execution_count": 13,
   "id": "4159d924",
   "metadata": {},
   "outputs": [
    {
     "name": "stdout",
     "output_type": "stream",
     "text": [
      "False\n",
      "False\n",
      "False\n",
      "False\n",
      "True\n",
      "False\n",
      "False\n",
      "False\n",
      "False\n"
     ]
    }
   ],
   "source": [
    "print(my_str.isalnum()) # To check if all char are numbers\n",
    "print(my_str.isalpha()) #check if all char in the string are alphabetic\n",
    "print(my_str.isdigit()) #test if string contains digits\n",
    "print(my_str.istitle()) #test if string contains title words\n",
    "print(my_str.isupper()) #test if string contains upper case\n",
    "print(my_str.islower()) #test if string contains lower case\n",
    "print(my_str.isspace()) #test if string contains spaces\n",
    "print(my_str.endswith('k')) #test if string endswith a d\n",
    "print(my_str.startswith('K')) #test if string startswith H"
   ]
  },
  {
   "cell_type": "markdown",
   "id": "239dcf92",
   "metadata": {},
   "source": [
    "\n",
    "# Boolean and logical Operattors"
   ]
  },
  {
   "cell_type": "code",
   "execution_count": 14,
   "id": "02e7ee37",
   "metadata": {},
   "outputs": [
    {
     "data": {
      "text/plain": [
       "True"
      ]
     },
     "execution_count": 14,
     "metadata": {},
     "output_type": "execute_result"
    }
   ],
   "source": [
    "True and True"
   ]
  },
  {
   "cell_type": "code",
   "execution_count": 15,
   "id": "b880e94a",
   "metadata": {},
   "outputs": [
    {
     "data": {
      "text/plain": [
       "False"
      ]
     },
     "execution_count": 15,
     "metadata": {},
     "output_type": "execute_result"
    }
   ],
   "source": [
    "True and False"
   ]
  },
  {
   "cell_type": "code",
   "execution_count": 16,
   "id": "42ba43df",
   "metadata": {},
   "outputs": [
    {
     "data": {
      "text/plain": [
       "True"
      ]
     },
     "execution_count": 16,
     "metadata": {},
     "output_type": "execute_result"
    }
   ],
   "source": [
    "True or False "
   ]
  },
  {
   "cell_type": "code",
   "execution_count": 17,
   "id": "68d83636",
   "metadata": {},
   "outputs": [
    {
     "data": {
      "text/plain": [
       "True"
      ]
     },
     "execution_count": 17,
     "metadata": {},
     "output_type": "execute_result"
    }
   ],
   "source": [
    "True or True\n"
   ]
  },
  {
   "cell_type": "code",
   "execution_count": 18,
   "id": "180e4a30",
   "metadata": {},
   "outputs": [],
   "source": [
    "str_example = 'Hello world'\n",
    "my_str = 'Krish'"
   ]
  },
  {
   "cell_type": "code",
   "execution_count": 19,
   "id": "c8070e3b",
   "metadata": {},
   "outputs": [
    {
     "data": {
      "text/plain": [
       "True"
      ]
     },
     "execution_count": 19,
     "metadata": {},
     "output_type": "execute_result"
    }
   ],
   "source": [
    "my_str.isalpha() or str_example.isnumeric()"
   ]
  },
  {
   "cell_type": "markdown",
   "id": "50d07b77",
   "metadata": {},
   "source": [
    "# SETS\n",
    "\n",
    "A Set is unordered collection data type that is iterable, mutable and has no duplicate elements. Python set class repsents the mathematical notion of a set. This is based on data structure known as a hash table."
   ]
  },
  {
   "cell_type": "code",
   "execution_count": 1,
   "id": "a3596e84",
   "metadata": {},
   "outputs": [
    {
     "name": "stdout",
     "output_type": "stream",
     "text": [
      "set()\n",
      "<class 'set'>\n"
     ]
    }
   ],
   "source": [
    "set_var = set()\n",
    "print(set_var)\n",
    "print(type(set_var))"
   ]
  },
  {
   "cell_type": "code",
   "execution_count": 2,
   "id": "036f5412",
   "metadata": {},
   "outputs": [],
   "source": [
    "set_var = {1,1,2,3,4,5}"
   ]
  },
  {
   "cell_type": "code",
   "execution_count": 4,
   "id": "70e06358",
   "metadata": {},
   "outputs": [
    {
     "name": "stdout",
     "output_type": "stream",
     "text": [
      "{1, 2, 3, 4, 5}\n"
     ]
    }
   ],
   "source": [
    "print(set_var) # remove the duplicates"
   ]
  },
  {
   "cell_type": "code",
   "execution_count": 6,
   "id": "b8cec57e",
   "metadata": {},
   "outputs": [
    {
     "name": "stdout",
     "output_type": "stream",
     "text": [
      "{'Hitman', 'Ironman', 'Avengers'}\n"
     ]
    }
   ],
   "source": [
    "set_var = {\"Avengers\",\"Ironman\",\"Hitman\"}\n",
    "print(set_var)"
   ]
  },
  {
   "cell_type": "code",
   "execution_count": null,
   "id": "0c861f64",
   "metadata": {},
   "outputs": [],
   "source": [
    "#Inbuilt functions in Sets"
   ]
  },
  {
   "cell_type": "code",
   "execution_count": 9,
   "id": "ef0e05ee",
   "metadata": {},
   "outputs": [
    {
     "name": "stdout",
     "output_type": "stream",
     "text": [
      "{'Hulk', 'Hitman', 'Ironman', 'Avengers'}\n"
     ]
    }
   ],
   "source": [
    "set_var.add(\"Hulk\")\n",
    "print(set_var)"
   ]
  },
  {
   "cell_type": "code",
   "execution_count": 34,
   "id": "77989f68",
   "metadata": {},
   "outputs": [],
   "source": [
    "set1 = {\"Avengers\",\"IronMan\",\"Hitman\"}\n",
    "set2 = {\"Avengers\",\"IronMan\",\"Hitman\",\"hulk2\"}"
   ]
  },
  {
   "cell_type": "code",
   "execution_count": 21,
   "id": "09d4d1c9",
   "metadata": {},
   "outputs": [],
   "source": [
    "set2.intersection_update(set1)"
   ]
  },
  {
   "cell_type": "code",
   "execution_count": 22,
   "id": "07ae7e9c",
   "metadata": {},
   "outputs": [
    {
     "data": {
      "text/plain": [
       "{'Avengers', 'Hitman', 'IronMan'}"
      ]
     },
     "execution_count": 22,
     "metadata": {},
     "output_type": "execute_result"
    }
   ],
   "source": [
    "set2"
   ]
  },
  {
   "cell_type": "code",
   "execution_count": 36,
   "id": "48fb5623",
   "metadata": {},
   "outputs": [
    {
     "data": {
      "text/plain": [
       "{'hulk2'}"
      ]
     },
     "execution_count": 36,
     "metadata": {},
     "output_type": "execute_result"
    }
   ],
   "source": [
    "## Difference\n",
    "\n",
    "set2.difference(set1)"
   ]
  },
  {
   "cell_type": "code",
   "execution_count": 35,
   "id": "0825044d",
   "metadata": {},
   "outputs": [
    {
     "name": "stdout",
     "output_type": "stream",
     "text": [
      "{'IronMan', 'Hitman', 'hulk2', 'Avengers'}\n"
     ]
    }
   ],
   "source": [
    "print(set2)"
   ]
  },
  {
   "cell_type": "code",
   "execution_count": 37,
   "id": "fac4b54c",
   "metadata": {},
   "outputs": [],
   "source": [
    "## Difference update\n",
    "\n",
    "set2.difference_update(set1)"
   ]
  },
  {
   "cell_type": "code",
   "execution_count": 38,
   "id": "9b663eae",
   "metadata": {},
   "outputs": [
    {
     "data": {
      "text/plain": [
       "{'hulk2'}"
      ]
     },
     "execution_count": 38,
     "metadata": {},
     "output_type": "execute_result"
    }
   ],
   "source": [
    "set2"
   ]
  },
  {
   "cell_type": "markdown",
   "id": "c9cc57a0",
   "metadata": {},
   "source": [
    "# Dictionaries\n",
    "\n",
    " A dictionary is a collection which is unordered, changeable and indexed. In Python dictionaries are written with curly brackets and they have keys values."
   ]
  },
  {
   "cell_type": "code",
   "execution_count": 39,
   "id": "68358c30",
   "metadata": {},
   "outputs": [],
   "source": [
    "dict={}"
   ]
  },
  {
   "cell_type": "code",
   "execution_count": 43,
   "id": "fa1a3a78",
   "metadata": {},
   "outputs": [
    {
     "data": {
      "text/plain": [
       "dict"
      ]
     },
     "execution_count": 43,
     "metadata": {},
     "output_type": "execute_result"
    }
   ],
   "source": [
    "type(dict)"
   ]
  },
  {
   "cell_type": "code",
   "execution_count": 44,
   "id": "12608f3b",
   "metadata": {},
   "outputs": [],
   "source": [
    "set_ex = {1,2,3,4,5\n",
    "         }"
   ]
  },
  {
   "cell_type": "code",
   "execution_count": 45,
   "id": "7ea8a999",
   "metadata": {},
   "outputs": [
    {
     "data": {
      "text/plain": [
       "set"
      ]
     },
     "execution_count": 45,
     "metadata": {},
     "output_type": "execute_result"
    }
   ],
   "source": [
    "type(set_ex)"
   ]
  },
  {
   "cell_type": "code",
   "execution_count": 46,
   "id": "91cc73b5",
   "metadata": {},
   "outputs": [],
   "source": [
    "## Let create a dictionary\n",
    "\n",
    "my_dict = {\"Car1\": \"Alto\", \"Car2\": \"Mehran\", \"Car3\":\"Civic\"}"
   ]
  },
  {
   "cell_type": "code",
   "execution_count": 47,
   "id": "ba67920f",
   "metadata": {},
   "outputs": [
    {
     "name": "stdout",
     "output_type": "stream",
     "text": [
      "{'Car1': 'Alto', 'Car2': 'Mehran', 'Car3': 'Civic'}\n"
     ]
    }
   ],
   "source": [
    "print(my_dict)"
   ]
  },
  {
   "cell_type": "code",
   "execution_count": 48,
   "id": "057eb325",
   "metadata": {},
   "outputs": [
    {
     "data": {
      "text/plain": [
       "'Alto'"
      ]
     },
     "execution_count": 48,
     "metadata": {},
     "output_type": "execute_result"
    }
   ],
   "source": [
    "## Access the item on the values based on keys.\n",
    "\n",
    "my_dict['Car1']"
   ]
  },
  {
   "cell_type": "code",
   "execution_count": 50,
   "id": "da9ec16d",
   "metadata": {},
   "outputs": [
    {
     "name": "stdout",
     "output_type": "stream",
     "text": [
      "Car1\n",
      "Car2\n",
      "Car3\n"
     ]
    }
   ],
   "source": [
    "# We can loop for each keys\n",
    "\n",
    "for x in my_dict:\n",
    "    print(x)"
   ]
  },
  {
   "cell_type": "code",
   "execution_count": 51,
   "id": "2cd1525e",
   "metadata": {},
   "outputs": [
    {
     "name": "stdout",
     "output_type": "stream",
     "text": [
      "Alto\n",
      "Mehran\n",
      "Civic\n"
     ]
    }
   ],
   "source": [
    "# We can also loop with each values.\n",
    "for x in my_dict.values():\n",
    "    print(x)"
   ]
  },
  {
   "cell_type": "code",
   "execution_count": 53,
   "id": "82b357d7",
   "metadata": {},
   "outputs": [
    {
     "name": "stdout",
     "output_type": "stream",
     "text": [
      "('Car1', 'Alto')\n",
      "('Car2', 'Mehran')\n",
      "('Car3', 'Civic')\n"
     ]
    }
   ],
   "source": [
    "# We can also call both keys and values:\\\n",
    "\n",
    "for x in my_dict.items():\n",
    "    print(x)"
   ]
  },
  {
   "cell_type": "code",
   "execution_count": 54,
   "id": "101d4b85",
   "metadata": {},
   "outputs": [],
   "source": [
    "# Adding items in Dict\n",
    "\n",
    "my_dict['car4'] = 'Audi 2.0'"
   ]
  },
  {
   "cell_type": "code",
   "execution_count": 55,
   "id": "36670521",
   "metadata": {},
   "outputs": [
    {
     "name": "stdout",
     "output_type": "stream",
     "text": [
      "{'Car1': 'Alto', 'Car2': 'Mehran', 'Car3': 'Civic', 'car4': 'Audi 2.0'}\n"
     ]
    }
   ],
   "source": [
    "print(my_dict)"
   ]
  },
  {
   "cell_type": "code",
   "execution_count": 57,
   "id": "b5afebda",
   "metadata": {},
   "outputs": [],
   "source": [
    "# Replacing Key 1 \n",
    "\n",
    "my_dict['Car1'] ='Maruti'"
   ]
  },
  {
   "cell_type": "code",
   "execution_count": 58,
   "id": "cd4dafd7",
   "metadata": {},
   "outputs": [
    {
     "name": "stdout",
     "output_type": "stream",
     "text": [
      "{'Car1': 'Maruti', 'Car2': 'Mehran', 'Car3': 'Civic', 'car4': 'Audi 2.0'}\n"
     ]
    }
   ],
   "source": [
    "print(my_dict)"
   ]
  },
  {
   "cell_type": "markdown",
   "id": "28988a02",
   "metadata": {},
   "source": [
    "# Nested Dictionary"
   ]
  },
  {
   "cell_type": "code",
   "execution_count": 61,
   "id": "8e22f781",
   "metadata": {},
   "outputs": [],
   "source": [
    "car1_model = {'Mercedes'  : 2000}\n",
    "car2_model = {'Audi'      : 2001}\n",
    "car3_model = {'Kia'       : 2022}\n",
    "\n",
    "car_type = {'car1':car1_model, 'car2': car2_model, 'car3':car3_model}"
   ]
  },
  {
   "cell_type": "code",
   "execution_count": 62,
   "id": "4cf9dab0",
   "metadata": {},
   "outputs": [
    {
     "name": "stdout",
     "output_type": "stream",
     "text": [
      "{'car1': {'Mercedes': 2000}, 'car2': {'Audi': 2001}, 'car3': {'Kia': 2022}}\n"
     ]
    }
   ],
   "source": [
    "print(car_type)"
   ]
  },
  {
   "cell_type": "code",
   "execution_count": 67,
   "id": "08306a64",
   "metadata": {},
   "outputs": [
    {
     "name": "stdout",
     "output_type": "stream",
     "text": [
      "{'Mercedes': 2000}\n",
      "{'Audi': 2001}\n",
      "{'Kia': 2022}\n"
     ]
    }
   ],
   "source": [
    "## Accessing the item in the dictionary\n",
    "\n",
    "print(car_type['car1'])\n",
    "print(car_type['car2'])\n",
    "print(car_type['car3'])"
   ]
  },
  {
   "cell_type": "code",
   "execution_count": 72,
   "id": "dd5eb12d",
   "metadata": {},
   "outputs": [
    {
     "name": "stdout",
     "output_type": "stream",
     "text": [
      "2000\n",
      "2001\n",
      "2022\n"
     ]
    }
   ],
   "source": [
    "print(car_type['car1']['Mercedes'])\n",
    "print(car_type['car2']['Audi'])\n",
    "print(car_type['car3']['Kia'])"
   ]
  },
  {
   "cell_type": "markdown",
   "id": "d905debc",
   "metadata": {},
   "source": [
    "# Tuples ()\n",
    "\n",
    "Immuatable "
   ]
  },
  {
   "cell_type": "code",
   "execution_count": 73,
   "id": "721cad1a",
   "metadata": {},
   "outputs": [],
   "source": [
    "## Create an emty tuples\n",
    "\n",
    "my_tuple =tuple()"
   ]
  },
  {
   "cell_type": "code",
   "execution_count": 74,
   "id": "802965fd",
   "metadata": {},
   "outputs": [
    {
     "data": {
      "text/plain": [
       "tuple"
      ]
     },
     "execution_count": 74,
     "metadata": {},
     "output_type": "execute_result"
    }
   ],
   "source": [
    "type(my_tuple)"
   ]
  },
  {
   "cell_type": "code",
   "execution_count": 75,
   "id": "7b9ae3bb",
   "metadata": {},
   "outputs": [],
   "source": [
    "my_tuple = (\"HP\",\"Lenevo\",\"Dell\")"
   ]
  },
  {
   "cell_type": "code",
   "execution_count": 76,
   "id": "11155ea4",
   "metadata": {},
   "outputs": [
    {
     "name": "stdout",
     "output_type": "stream",
     "text": [
      "('HP', 'Lenevo', 'Dell')\n"
     ]
    }
   ],
   "source": [
    "print(my_tuple)"
   ]
  },
  {
   "cell_type": "code",
   "execution_count": 78,
   "id": "c9953f89",
   "metadata": {},
   "outputs": [
    {
     "data": {
      "text/plain": [
       "1"
      ]
     },
     "execution_count": 78,
     "metadata": {},
     "output_type": "execute_result"
    }
   ],
   "source": [
    "## inbuilt func\n",
    "\n",
    "my_tuple.count(\"Dell\")"
   ]
  },
  {
   "cell_type": "code",
   "execution_count": 80,
   "id": "2634e055",
   "metadata": {},
   "outputs": [
    {
     "data": {
      "text/plain": [
       "1"
      ]
     },
     "execution_count": 80,
     "metadata": {},
     "output_type": "execute_result"
    }
   ],
   "source": [
    "my_tuple.count(\"HP\")"
   ]
  },
  {
   "cell_type": "code",
   "execution_count": null,
   "id": "57873736",
   "metadata": {},
   "outputs": [],
   "source": []
  }
 ],
 "metadata": {
  "kernelspec": {
   "display_name": "Python 3 (ipykernel)",
   "language": "python",
   "name": "python3"
  },
  "language_info": {
   "codemirror_mode": {
    "name": "ipython",
    "version": 3
   },
   "file_extension": ".py",
   "mimetype": "text/x-python",
   "name": "python",
   "nbconvert_exporter": "python",
   "pygments_lexer": "ipython3",
   "version": "3.9.7"
  }
 },
 "nbformat": 4,
 "nbformat_minor": 5
}
