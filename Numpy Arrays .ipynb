{
 "cells": [
  {
   "cell_type": "code",
   "execution_count": 1,
   "id": "b7f169a2",
   "metadata": {},
   "outputs": [],
   "source": [
    "first_name='Sajid'\n",
    "last_name='Alam'"
   ]
  },
  {
   "cell_type": "code",
   "execution_count": 3,
   "id": "18f384bf",
   "metadata": {},
   "outputs": [
    {
     "name": "stdout",
     "output_type": "stream",
     "text": [
      "My first name is Sajid and the last name is Alam\n"
     ]
    }
   ],
   "source": [
    "print(\"My first name is {} and the last name is {}\".format(first_name,last_name))"
   ]
  },
  {
   "cell_type": "code",
   "execution_count": 4,
   "id": "b6875097",
   "metadata": {},
   "outputs": [
    {
     "name": "stdout",
     "output_type": "stream",
     "text": [
      "My first name is Sajid and the last name is Alam\n"
     ]
    }
   ],
   "source": [
    "print(\"My first name is {first} and the last name is {last}\".format(first=first_name,last=last_name))"
   ]
  },
  {
   "cell_type": "code",
   "execution_count": 5,
   "id": "bdfb3932",
   "metadata": {},
   "outputs": [
    {
     "data": {
      "text/plain": [
       "5"
      ]
     },
     "execution_count": 5,
     "metadata": {},
     "output_type": "execute_result"
    }
   ],
   "source": [
    "len('sajid')"
   ]
  },
  {
   "cell_type": "code",
   "execution_count": 6,
   "id": "36e3a3d0",
   "metadata": {},
   "outputs": [
    {
     "data": {
      "text/plain": [
       "str"
      ]
     },
     "execution_count": 6,
     "metadata": {},
     "output_type": "execute_result"
    }
   ],
   "source": [
    "type(\"Sajid\")"
   ]
  },
  {
   "cell_type": "code",
   "execution_count": 7,
   "id": "3017d9f3",
   "metadata": {},
   "outputs": [
    {
     "data": {
      "text/plain": [
       "list"
      ]
     },
     "execution_count": 7,
     "metadata": {},
     "output_type": "execute_result"
    }
   ],
   "source": [
    "type([1,2,3])"
   ]
  },
  {
   "cell_type": "markdown",
   "id": "f4f25007",
   "metadata": {},
   "source": [
    "# Python Data structures and Boolean"
   ]
  },
  {
   "cell_type": "markdown",
   "id": "38da2ffe",
   "metadata": {},
   "source": [
    "- Boolean\n",
    "- Boolean and logical Operators \n",
    "- lists\n",
    "- Comparison operators\n",
    "- Dictionaries \n",
    "- Tuples\n",
    "- Sets"
   ]
  },
  {
   "cell_type": "markdown",
   "id": "caa58e65",
   "metadata": {},
   "source": [
    "## Boolean Variables"
   ]
  },
  {
   "cell_type": "markdown",
   "id": "07e65e29",
   "metadata": {},
   "source": [
    "Boolean values are the two constant objects False and True\n",
    "\n",
    "They are used to represent truth values(other values can also be considered false or true).\n",
    "\n",
    "In numeroc contexts (for example, when used as the argumemts to an arithmetic operators), they behave like the integers 0 and 1 respectively.\n",
    "\n",
    "They are written as Flase and True, respectively."
   ]
  },
  {
   "cell_type": "code",
   "execution_count": 9,
   "id": "b34a9138",
   "metadata": {},
   "outputs": [
    {
     "name": "stdout",
     "output_type": "stream",
     "text": [
      "True False\n"
     ]
    }
   ],
   "source": [
    "print(True, False)"
   ]
  },
  {
   "cell_type": "code",
   "execution_count": 10,
   "id": "b2ec120f",
   "metadata": {},
   "outputs": [
    {
     "data": {
      "text/plain": [
       "False"
      ]
     },
     "execution_count": 10,
     "metadata": {},
     "output_type": "execute_result"
    }
   ],
   "source": [
    "bool()"
   ]
  },
  {
   "cell_type": "code",
   "execution_count": 11,
   "id": "4b139c93",
   "metadata": {},
   "outputs": [],
   "source": [
    "my_str= \"SDN NETWORKING\""
   ]
  },
  {
   "cell_type": "code",
   "execution_count": 13,
   "id": "4159d924",
   "metadata": {},
   "outputs": [
    {
     "name": "stdout",
     "output_type": "stream",
     "text": [
      "False\n",
      "False\n",
      "False\n",
      "False\n",
      "True\n",
      "False\n",
      "False\n",
      "False\n",
      "False\n"
     ]
    }
   ],
   "source": [
    "print(my_str.isalnum()) # To check if all char are numbers\n",
    "print(my_str.isalpha()) #check if all char in the string are alphabetic\n",
    "print(my_str.isdigit()) #test if string contains digits\n",
    "print(my_str.istitle()) #test if string contains title words\n",
    "print(my_str.isupper()) #test if string contains upper case\n",
    "print(my_str.islower()) #test if string contains lower case\n",
    "print(my_str.isspace()) #test if string contains spaces\n",
    "print(my_str.endswith('k')) #test if string endswith a d\n",
    "print(my_str.startswith('K')) #test if string startswith H"
   ]
  },
  {
   "cell_type": "markdown",
   "id": "239dcf92",
   "metadata": {},
   "source": [
    "\n",
    "# Boolean and logical Operattors"
   ]
  },
  {
   "cell_type": "code",
   "execution_count": 14,
   "id": "02e7ee37",
   "metadata": {},
   "outputs": [
    {
     "data": {
      "text/plain": [
       "True"
      ]
     },
     "execution_count": 14,
     "metadata": {},
     "output_type": "execute_result"
    }
   ],
   "source": [
    "True and True"
   ]
  },
  {
   "cell_type": "code",
   "execution_count": 15,
   "id": "b880e94a",
   "metadata": {},
   "outputs": [
    {
     "data": {
      "text/plain": [
       "False"
      ]
     },
     "execution_count": 15,
     "metadata": {},
     "output_type": "execute_result"
    }
   ],
   "source": [
    "True and False"
   ]
  },
  {
   "cell_type": "code",
   "execution_count": 16,
   "id": "42ba43df",
   "metadata": {},
   "outputs": [
    {
     "data": {
      "text/plain": [
       "True"
      ]
     },
     "execution_count": 16,
     "metadata": {},
     "output_type": "execute_result"
    }
   ],
   "source": [
    "True or False "
   ]
  },
  {
   "cell_type": "code",
   "execution_count": 17,
   "id": "68d83636",
   "metadata": {},
   "outputs": [
    {
     "data": {
      "text/plain": [
       "True"
      ]
     },
     "execution_count": 17,
     "metadata": {},
     "output_type": "execute_result"
    }
   ],
   "source": [
    "True or True\n"
   ]
  },
  {
   "cell_type": "code",
   "execution_count": 18,
   "id": "180e4a30",
   "metadata": {},
   "outputs": [],
   "source": [
    "str_example = 'Hello world'\n",
    "my_str = 'Krish'"
   ]
  },
  {
   "cell_type": "code",
   "execution_count": 19,
   "id": "c8070e3b",
   "metadata": {},
   "outputs": [
    {
     "data": {
      "text/plain": [
       "True"
      ]
     },
     "execution_count": 19,
     "metadata": {},
     "output_type": "execute_result"
    }
   ],
   "source": [
    "my_str.isalpha() or str_example.isnumeric()"
   ]
  },
  {
   "cell_type": "markdown",
   "id": "50d07b77",
   "metadata": {},
   "source": [
    "# SETS\n",
    "\n",
    "A Set is unordered collection data type that is iterable, mutable and has no duplicate elements. Python set class repsents the mathematical notion of a set. This is based on data structure known as a hash table."
   ]
  },
  {
   "cell_type": "code",
   "execution_count": 1,
   "id": "a3596e84",
   "metadata": {},
   "outputs": [
    {
     "name": "stdout",
     "output_type": "stream",
     "text": [
      "set()\n",
      "<class 'set'>\n"
     ]
    }
   ],
   "source": [
    "set_var = set()\n",
    "print(set_var)\n",
    "print(type(set_var))"
   ]
  },
  {
   "cell_type": "code",
   "execution_count": 2,
   "id": "036f5412",
   "metadata": {},
   "outputs": [],
   "source": [
    "set_var = {1,1,2,3,4,5}"
   ]
  },
  {
   "cell_type": "code",
   "execution_count": 4,
   "id": "70e06358",
   "metadata": {},
   "outputs": [
    {
     "name": "stdout",
     "output_type": "stream",
     "text": [
      "{1, 2, 3, 4, 5}\n"
     ]
    }
   ],
   "source": [
    "print(set_var) # remove the duplicates"
   ]
  },
  {
   "cell_type": "code",
   "execution_count": 6,
   "id": "b8cec57e",
   "metadata": {},
   "outputs": [
    {
     "name": "stdout",
     "output_type": "stream",
     "text": [
      "{'Hitman', 'Ironman', 'Avengers'}\n"
     ]
    }
   ],
   "source": [
    "set_var = {\"Avengers\",\"Ironman\",\"Hitman\"}\n",
    "print(set_var)"
   ]
  },
  {
   "cell_type": "code",
   "execution_count": null,
   "id": "0c861f64",
   "metadata": {},
   "outputs": [],
   "source": [
    "#Inbuilt functions in Sets"
   ]
  },
  {
   "cell_type": "code",
   "execution_count": 9,
   "id": "ef0e05ee",
   "metadata": {},
   "outputs": [
    {
     "name": "stdout",
     "output_type": "stream",
     "text": [
      "{'Hulk', 'Hitman', 'Ironman', 'Avengers'}\n"
     ]
    }
   ],
   "source": [
    "set_var.add(\"Hulk\")\n",
    "print(set_var)"
   ]
  },
  {
   "cell_type": "code",
   "execution_count": 34,
   "id": "77989f68",
   "metadata": {},
   "outputs": [],
   "source": [
    "set1 = {\"Avengers\",\"IronMan\",\"Hitman\"}\n",
    "set2 = {\"Avengers\",\"IronMan\",\"Hitman\",\"hulk2\"}"
   ]
  },
  {
   "cell_type": "code",
   "execution_count": 21,
   "id": "09d4d1c9",
   "metadata": {},
   "outputs": [],
   "source": [
    "set2.intersection_update(set1)"
   ]
  },
  {
   "cell_type": "code",
   "execution_count": 22,
   "id": "07ae7e9c",
   "metadata": {},
   "outputs": [
    {
     "data": {
      "text/plain": [
       "{'Avengers', 'Hitman', 'IronMan'}"
      ]
     },
     "execution_count": 22,
     "metadata": {},
     "output_type": "execute_result"
    }
   ],
   "source": [
    "set2"
   ]
  },
  {
   "cell_type": "code",
   "execution_count": 36,
   "id": "48fb5623",
   "metadata": {},
   "outputs": [
    {
     "data": {
      "text/plain": [
       "{'hulk2'}"
      ]
     },
     "execution_count": 36,
     "metadata": {},
     "output_type": "execute_result"
    }
   ],
   "source": [
    "## Difference\n",
    "\n",
    "set2.difference(set1)"
   ]
  },
  {
   "cell_type": "code",
   "execution_count": 35,
   "id": "0825044d",
   "metadata": {},
   "outputs": [
    {
     "name": "stdout",
     "output_type": "stream",
     "text": [
      "{'IronMan', 'Hitman', 'hulk2', 'Avengers'}\n"
     ]
    }
   ],
   "source": [
    "print(set2)"
   ]
  },
  {
   "cell_type": "code",
   "execution_count": 37,
   "id": "fac4b54c",
   "metadata": {},
   "outputs": [],
   "source": [
    "## Difference update\n",
    "\n",
    "set2.difference_update(set1)"
   ]
  },
  {
   "cell_type": "code",
   "execution_count": 38,
   "id": "9b663eae",
   "metadata": {},
   "outputs": [
    {
     "data": {
      "text/plain": [
       "{'hulk2'}"
      ]
     },
     "execution_count": 38,
     "metadata": {},
     "output_type": "execute_result"
    }
   ],
   "source": [
    "set2"
   ]
  },
  {
   "cell_type": "markdown",
   "id": "c9cc57a0",
   "metadata": {},
   "source": [
    "# Dictionaries\n",
    "\n",
    " A dictionary is a collection which is unordered, changeable and indexed. In Python dictionaries are written with curly brackets and they have keys values."
   ]
  },
  {
   "cell_type": "code",
   "execution_count": 39,
   "id": "68358c30",
   "metadata": {},
   "outputs": [],
   "source": [
    "dict={}"
   ]
  },
  {
   "cell_type": "code",
   "execution_count": 43,
   "id": "fa1a3a78",
   "metadata": {},
   "outputs": [
    {
     "data": {
      "text/plain": [
       "dict"
      ]
     },
     "execution_count": 43,
     "metadata": {},
     "output_type": "execute_result"
    }
   ],
   "source": [
    "type(dict)"
   ]
  },
  {
   "cell_type": "code",
   "execution_count": 44,
   "id": "12608f3b",
   "metadata": {},
   "outputs": [],
   "source": [
    "set_ex = {1,2,3,4,5\n",
    "         }"
   ]
  },
  {
   "cell_type": "code",
   "execution_count": 45,
   "id": "7ea8a999",
   "metadata": {},
   "outputs": [
    {
     "data": {
      "text/plain": [
       "set"
      ]
     },
     "execution_count": 45,
     "metadata": {},
     "output_type": "execute_result"
    }
   ],
   "source": [
    "type(set_ex)"
   ]
  },
  {
   "cell_type": "code",
   "execution_count": 46,
   "id": "91cc73b5",
   "metadata": {},
   "outputs": [],
   "source": [
    "## Let create a dictionary\n",
    "\n",
    "my_dict = {\"Car1\": \"Alto\", \"Car2\": \"Mehran\", \"Car3\":\"Civic\"}"
   ]
  },
  {
   "cell_type": "code",
   "execution_count": 47,
   "id": "ba67920f",
   "metadata": {},
   "outputs": [
    {
     "name": "stdout",
     "output_type": "stream",
     "text": [
      "{'Car1': 'Alto', 'Car2': 'Mehran', 'Car3': 'Civic'}\n"
     ]
    }
   ],
   "source": [
    "print(my_dict)"
   ]
  },
  {
   "cell_type": "code",
   "execution_count": 48,
   "id": "057eb325",
   "metadata": {},
   "outputs": [
    {
     "data": {
      "text/plain": [
       "'Alto'"
      ]
     },
     "execution_count": 48,
     "metadata": {},
     "output_type": "execute_result"
    }
   ],
   "source": [
    "## Access the item on the values based on keys.\n",
    "\n",
    "my_dict['Car1']"
   ]
  },
  {
   "cell_type": "code",
   "execution_count": 50,
   "id": "da9ec16d",
   "metadata": {},
   "outputs": [
    {
     "name": "stdout",
     "output_type": "stream",
     "text": [
      "Car1\n",
      "Car2\n",
      "Car3\n"
     ]
    }
   ],
   "source": [
    "# We can loop for each keys\n",
    "\n",
    "for x in my_dict:\n",
    "    print(x)"
   ]
  },
  {
   "cell_type": "code",
   "execution_count": 51,
   "id": "2cd1525e",
   "metadata": {},
   "outputs": [
    {
     "name": "stdout",
     "output_type": "stream",
     "text": [
      "Alto\n",
      "Mehran\n",
      "Civic\n"
     ]
    }
   ],
   "source": [
    "# We can also loop with each values.\n",
    "for x in my_dict.values():\n",
    "    print(x)"
   ]
  },
  {
   "cell_type": "code",
   "execution_count": 53,
   "id": "82b357d7",
   "metadata": {},
   "outputs": [
    {
     "name": "stdout",
     "output_type": "stream",
     "text": [
      "('Car1', 'Alto')\n",
      "('Car2', 'Mehran')\n",
      "('Car3', 'Civic')\n"
     ]
    }
   ],
   "source": [
    "# We can also call both keys and values:\\\n",
    "\n",
    "for x in my_dict.items():\n",
    "    print(x)"
   ]
  },
  {
   "cell_type": "code",
   "execution_count": 54,
   "id": "101d4b85",
   "metadata": {},
   "outputs": [],
   "source": [
    "# Adding items in Dict\n",
    "\n",
    "my_dict['car4'] = 'Audi 2.0'"
   ]
  },
  {
   "cell_type": "code",
   "execution_count": 55,
   "id": "36670521",
   "metadata": {},
   "outputs": [
    {
     "name": "stdout",
     "output_type": "stream",
     "text": [
      "{'Car1': 'Alto', 'Car2': 'Mehran', 'Car3': 'Civic', 'car4': 'Audi 2.0'}\n"
     ]
    }
   ],
   "source": [
    "print(my_dict)"
   ]
  },
  {
   "cell_type": "code",
   "execution_count": 57,
   "id": "b5afebda",
   "metadata": {},
   "outputs": [],
   "source": [
    "# Replacing Key 1 \n",
    "\n",
    "my_dict['Car1'] ='Maruti'"
   ]
  },
  {
   "cell_type": "code",
   "execution_count": 58,
   "id": "cd4dafd7",
   "metadata": {},
   "outputs": [
    {
     "name": "stdout",
     "output_type": "stream",
     "text": [
      "{'Car1': 'Maruti', 'Car2': 'Mehran', 'Car3': 'Civic', 'car4': 'Audi 2.0'}\n"
     ]
    }
   ],
   "source": [
    "print(my_dict)"
   ]
  },
  {
   "cell_type": "markdown",
   "id": "28988a02",
   "metadata": {},
   "source": [
    "# Nested Dictionary"
   ]
  },
  {
   "cell_type": "code",
   "execution_count": 61,
   "id": "8e22f781",
   "metadata": {},
   "outputs": [],
   "source": [
    "car1_model = {'Mercedes'  : 2000}\n",
    "car2_model = {'Audi'      : 2001}\n",
    "car3_model = {'Kia'       : 2022}\n",
    "\n",
    "car_type = {'car1':car1_model, 'car2': car2_model, 'car3':car3_model}"
   ]
  },
  {
   "cell_type": "code",
   "execution_count": 62,
   "id": "4cf9dab0",
   "metadata": {},
   "outputs": [
    {
     "name": "stdout",
     "output_type": "stream",
     "text": [
      "{'car1': {'Mercedes': 2000}, 'car2': {'Audi': 2001}, 'car3': {'Kia': 2022}}\n"
     ]
    }
   ],
   "source": [
    "print(car_type)"
   ]
  },
  {
   "cell_type": "code",
   "execution_count": 67,
   "id": "08306a64",
   "metadata": {},
   "outputs": [
    {
     "name": "stdout",
     "output_type": "stream",
     "text": [
      "{'Mercedes': 2000}\n",
      "{'Audi': 2001}\n",
      "{'Kia': 2022}\n"
     ]
    }
   ],
   "source": [
    "## Accessing the item in the dictionary\n",
    "\n",
    "print(car_type['car1'])\n",
    "print(car_type['car2'])\n",
    "print(car_type['car3'])"
   ]
  },
  {
   "cell_type": "code",
   "execution_count": 72,
   "id": "dd5eb12d",
   "metadata": {},
   "outputs": [
    {
     "name": "stdout",
     "output_type": "stream",
     "text": [
      "2000\n",
      "2001\n",
      "2022\n"
     ]
    }
   ],
   "source": [
    "print(car_type['car1']['Mercedes'])\n",
    "print(car_type['car2']['Audi'])\n",
    "print(car_type['car3']['Kia'])"
   ]
  },
  {
   "cell_type": "markdown",
   "id": "d905debc",
   "metadata": {},
   "source": [
    "# Tuples ()\n",
    "\n",
    "Immuatable "
   ]
  },
  {
   "cell_type": "code",
   "execution_count": 73,
   "id": "721cad1a",
   "metadata": {},
   "outputs": [],
   "source": [
    "## Create an emty tuples\n",
    "\n",
    "my_tuple =tuple()"
   ]
  },
  {
   "cell_type": "code",
   "execution_count": 74,
   "id": "802965fd",
   "metadata": {},
   "outputs": [
    {
     "data": {
      "text/plain": [
       "tuple"
      ]
     },
     "execution_count": 74,
     "metadata": {},
     "output_type": "execute_result"
    }
   ],
   "source": [
    "type(my_tuple)"
   ]
  },
  {
   "cell_type": "code",
   "execution_count": 75,
   "id": "7b9ae3bb",
   "metadata": {},
   "outputs": [],
   "source": [
    "my_tuple = (\"HP\",\"Lenevo\",\"Dell\")"
   ]
  },
  {
   "cell_type": "code",
   "execution_count": 76,
   "id": "11155ea4",
   "metadata": {},
   "outputs": [
    {
     "name": "stdout",
     "output_type": "stream",
     "text": [
      "('HP', 'Lenevo', 'Dell')\n"
     ]
    }
   ],
   "source": [
    "print(my_tuple)"
   ]
  },
  {
   "cell_type": "code",
   "execution_count": 78,
   "id": "c9953f89",
   "metadata": {},
   "outputs": [
    {
     "data": {
      "text/plain": [
       "1"
      ]
     },
     "execution_count": 78,
     "metadata": {},
     "output_type": "execute_result"
    }
   ],
   "source": [
    "## inbuilt func\n",
    "\n",
    "my_tuple.count(\"Dell\")"
   ]
  },
  {
   "cell_type": "code",
   "execution_count": 80,
   "id": "2634e055",
   "metadata": {},
   "outputs": [
    {
     "data": {
      "text/plain": [
       "1"
      ]
     },
     "execution_count": 80,
     "metadata": {},
     "output_type": "execute_result"
    }
   ],
   "source": [
    "my_tuple.count(\"HP\")"
   ]
  },
  {
   "cell_type": "markdown",
   "id": "15ffd405",
   "metadata": {},
   "source": [
    "#  Numpy Arrays\n",
    "\n",
    "A numpy array is a grid of values, all of the same type, and is indexed by a tuple of nonnegative integers. The number of dimensions is the rank of the array; the shape of an array is a tuple of integers giving the size of the array along each dimension.\n",
    "\n"
   ]
  },
  {
   "cell_type": "code",
   "execution_count": 1,
   "id": "0ee67996",
   "metadata": {},
   "outputs": [],
   "source": [
    "import numpy as np\n",
    "\n",
    "my_last = [1,2,3,4,5]\n",
    "\n",
    "arr=np.array(my_last)\n"
   ]
  },
  {
   "cell_type": "code",
   "execution_count": 2,
   "id": "4c814b20",
   "metadata": {},
   "outputs": [
    {
     "name": "stdout",
     "output_type": "stream",
     "text": [
      "[1, 2, 3, 4, 5]\n"
     ]
    }
   ],
   "source": [
    "print(my_last)"
   ]
  },
  {
   "cell_type": "code",
   "execution_count": 3,
   "id": "fc18456a",
   "metadata": {},
   "outputs": [],
   "source": [
    "# Multinested array \n",
    "\n",
    "my_last1 = [1,2,3,4,5]\n",
    "my_last2 = [2,3,4,5,6]\n",
    "my_last3 = [9,7,6,8,9]\n",
    "\n",
    "arr=np.array([my_last1,my_last2,my_last3])"
   ]
  },
  {
   "cell_type": "code",
   "execution_count": 4,
   "id": "e967251c",
   "metadata": {},
   "outputs": [
    {
     "data": {
      "text/plain": [
       "array([[1, 2, 3, 4, 5],\n",
       "       [2, 3, 4, 5, 6],\n",
       "       [9, 7, 6, 8, 9]])"
      ]
     },
     "execution_count": 4,
     "metadata": {},
     "output_type": "execute_result"
    }
   ],
   "source": [
    "arr"
   ]
  },
  {
   "cell_type": "code",
   "execution_count": 5,
   "id": "7d46552c",
   "metadata": {},
   "outputs": [
    {
     "data": {
      "text/plain": [
       "numpy.ndarray"
      ]
     },
     "execution_count": 5,
     "metadata": {},
     "output_type": "execute_result"
    }
   ],
   "source": [
    "type(arr)"
   ]
  },
  {
   "cell_type": "code",
   "execution_count": 7,
   "id": "23fb5d14",
   "metadata": {},
   "outputs": [
    {
     "data": {
      "text/plain": [
       "(3, 5)"
      ]
     },
     "execution_count": 7,
     "metadata": {},
     "output_type": "execute_result"
    }
   ],
   "source": [
    "# Check the shape of the array\n",
    "\n",
    "arr.shape"
   ]
  },
  {
   "cell_type": "markdown",
   "id": "40e1c8f1",
   "metadata": {},
   "source": [
    "# Indexing "
   ]
  },
  {
   "cell_type": "code",
   "execution_count": 9,
   "id": "e87686f3",
   "metadata": {},
   "outputs": [
    {
     "data": {
      "text/plain": [
       "[1, 2, 3, 4, 5]"
      ]
     },
     "execution_count": 9,
     "metadata": {},
     "output_type": "execute_result"
    }
   ],
   "source": [
    "## Accessing the array element\n",
    "\n",
    "my_last"
   ]
  },
  {
   "cell_type": "code",
   "execution_count": 13,
   "id": "58004331",
   "metadata": {},
   "outputs": [
    {
     "data": {
      "text/plain": [
       "4"
      ]
     },
     "execution_count": 13,
     "metadata": {},
     "output_type": "execute_result"
    }
   ],
   "source": [
    "my_last[3]"
   ]
  },
  {
   "cell_type": "code",
   "execution_count": 14,
   "id": "04216727",
   "metadata": {},
   "outputs": [
    {
     "data": {
      "text/plain": [
       "1"
      ]
     },
     "execution_count": 14,
     "metadata": {},
     "output_type": "execute_result"
    }
   ],
   "source": [
    "my_last[0]"
   ]
  },
  {
   "cell_type": "code",
   "execution_count": 15,
   "id": "f4e2142d",
   "metadata": {},
   "outputs": [
    {
     "data": {
      "text/plain": [
       "array([[1, 2, 3, 4, 5],\n",
       "       [2, 3, 4, 5, 6],\n",
       "       [9, 7, 6, 8, 9]])"
      ]
     },
     "execution_count": 15,
     "metadata": {},
     "output_type": "execute_result"
    }
   ],
   "source": [
    "## Now retreiving the multi dimensional array\n",
    "\n",
    "arr"
   ]
  },
  {
   "cell_type": "code",
   "execution_count": 16,
   "id": "5a9eb812",
   "metadata": {},
   "outputs": [
    {
     "data": {
      "text/plain": [
       "array([[2, 3, 4, 5, 6],\n",
       "       [9, 7, 6, 8, 9]])"
      ]
     },
     "execution_count": 16,
     "metadata": {},
     "output_type": "execute_result"
    }
   ],
   "source": [
    "arr[1:]"
   ]
  },
  {
   "cell_type": "code",
   "execution_count": 21,
   "id": "27daed9a",
   "metadata": {},
   "outputs": [
    {
     "data": {
      "text/plain": [
       "array([[2, 3, 4, 5, 6],\n",
       "       [9, 7, 6, 8, 9]])"
      ]
     },
     "execution_count": 21,
     "metadata": {},
     "output_type": "execute_result"
    }
   ],
   "source": [
    "arr[1:]"
   ]
  },
  {
   "cell_type": "raw",
   "id": "1c7d5486",
   "metadata": {},
   "source": [
    "my_last1 = [1,2,3,4,5] ==> row index 0\n",
    "my_last2 = [2,3,4,5,6] ==> row index 1\n",
    "my_last3 = [9,7,6,8,9] ==> row index 2\n",
    "           col,col, col col  \n",
    "            0  1     2   3\n"
   ]
  },
  {
   "cell_type": "code",
   "execution_count": 22,
   "id": "8cd74bb4",
   "metadata": {},
   "outputs": [
    {
     "data": {
      "text/plain": [
       "array([[1, 2, 3, 4, 5],\n",
       "       [2, 3, 4, 5, 6],\n",
       "       [9, 7, 6, 8, 9]])"
      ]
     },
     "execution_count": 22,
     "metadata": {},
     "output_type": "execute_result"
    }
   ],
   "source": [
    "# arr[#in this left side of comma you are providing the information about the which row index you want,]\n",
    "    \n",
    "# arr[:,] ==> means selecting the all rows \n",
    "# arr[,:] ==> means selecting the all coloumnns\n",
    "\n",
    "\n",
    "arr[:,:]"
   ]
  },
  {
   "cell_type": "code",
   "execution_count": 25,
   "id": "b86f20be",
   "metadata": {},
   "outputs": [
    {
     "data": {
      "text/plain": [
       "array([[1, 2],\n",
       "       [2, 3]])"
      ]
     },
     "execution_count": 25,
     "metadata": {},
     "output_type": "execute_result"
    }
   ],
   "source": [
    "arr[0:2,0:2]"
   ]
  },
  {
   "cell_type": "code",
   "execution_count": 30,
   "id": "7ef192ab",
   "metadata": {},
   "outputs": [
    {
     "data": {
      "text/plain": [
       "array([[5, 6],\n",
       "       [8, 9]])"
      ]
     },
     "execution_count": 30,
     "metadata": {},
     "output_type": "execute_result"
    }
   ],
   "source": [
    "arr[1:3,3:]"
   ]
  },
  {
   "cell_type": "code",
   "execution_count": 31,
   "id": "ab0054fc",
   "metadata": {},
   "outputs": [
    {
     "data": {
      "text/plain": [
       "array([[1, 2, 3, 4, 5],\n",
       "       [2, 3, 4, 5, 6],\n",
       "       [9, 7, 6, 8, 9]])"
      ]
     },
     "execution_count": 31,
     "metadata": {},
     "output_type": "execute_result"
    }
   ],
   "source": [
    "arr"
   ]
  },
  {
   "cell_type": "code",
   "execution_count": 40,
   "id": "22d24fb2",
   "metadata": {},
   "outputs": [],
   "source": [
    "arr[:,] =100\n"
   ]
  },
  {
   "cell_type": "code",
   "execution_count": 41,
   "id": "83c7c696",
   "metadata": {},
   "outputs": [
    {
     "data": {
      "text/plain": [
       "array([[100, 100, 100, 100, 100],\n",
       "       [100, 100, 100, 100, 100],\n",
       "       [100, 100, 100, 100, 100]])"
      ]
     },
     "execution_count": 41,
     "metadata": {},
     "output_type": "execute_result"
    }
   ],
   "source": [
    "arr"
   ]
  },
  {
   "cell_type": "code",
   "execution_count": 47,
   "id": "1228c7d2",
   "metadata": {},
   "outputs": [],
   "source": [
    "# multiplying the last row with 100\n",
    "\n",
    "arr[1:,] = 500"
   ]
  },
  {
   "cell_type": "raw",
   "id": "0e0498e3",
   "metadata": {},
   "source": [
    "arr"
   ]
  },
  {
   "cell_type": "code",
   "execution_count": 48,
   "id": "38f62efd",
   "metadata": {},
   "outputs": [
    {
     "data": {
      "text/plain": [
       "array([], dtype=int32)"
      ]
     },
     "execution_count": 48,
     "metadata": {},
     "output_type": "execute_result"
    }
   ],
   "source": [
    "## some conditions very useful in Explotary data analysis\n",
    "\n",
    "val = 2\n",
    "\n",
    "arr[arr<3]"
   ]
  },
  {
   "cell_type": "code",
   "execution_count": 49,
   "id": "bf1e45a1",
   "metadata": {},
   "outputs": [
    {
     "data": {
      "text/plain": [
       "array([[100, 100, 100, 100, 100],\n",
       "       [500, 500, 500, 500, 500],\n",
       "       [500, 500, 500, 500, 500]])"
      ]
     },
     "execution_count": 49,
     "metadata": {},
     "output_type": "execute_result"
    }
   ],
   "source": [
    "arr"
   ]
  },
  {
   "cell_type": "code",
   "execution_count": 52,
   "id": "98bd35e2",
   "metadata": {},
   "outputs": [],
   "source": [
    "New_arr=np.array(my_last)"
   ]
  },
  {
   "cell_type": "code",
   "execution_count": 54,
   "id": "3de88ef4",
   "metadata": {},
   "outputs": [
    {
     "data": {
      "text/plain": [
       "array([1, 2, 3, 4, 5])"
      ]
     },
     "execution_count": 54,
     "metadata": {},
     "output_type": "execute_result"
    }
   ],
   "source": [
    "New_arr"
   ]
  },
  {
   "cell_type": "code",
   "execution_count": 55,
   "id": "d65f755d",
   "metadata": {},
   "outputs": [
    {
     "data": {
      "text/plain": [
       "array([1, 2])"
      ]
     },
     "execution_count": 55,
     "metadata": {},
     "output_type": "execute_result"
    }
   ],
   "source": [
    "val = 3\n",
    "\n",
    "New_arr[New_arr<3]"
   ]
  },
  {
   "cell_type": "code",
   "execution_count": 56,
   "id": "aa936955",
   "metadata": {},
   "outputs": [],
   "source": [
    "New_arr[3:]=100"
   ]
  },
  {
   "cell_type": "raw",
   "id": "252a281f",
   "metadata": {},
   "source": [
    "    New"
   ]
  },
  {
   "cell_type": "code",
   "execution_count": 57,
   "id": "0a831399",
   "metadata": {},
   "outputs": [
    {
     "data": {
      "text/plain": [
       "array([  1,   2,   3, 100, 100])"
      ]
     },
     "execution_count": 57,
     "metadata": {},
     "output_type": "execute_result"
    }
   ],
   "source": [
    "New_arr"
   ]
  },
  {
   "cell_type": "code",
   "execution_count": 59,
   "id": "476b16ae",
   "metadata": {},
   "outputs": [
    {
     "data": {
      "text/plain": [
       "array([[0, 1],\n",
       "       [2, 3],\n",
       "       [4, 5],\n",
       "       [6, 7],\n",
       "       [8, 9]])"
      ]
     },
     "execution_count": 59,
     "metadata": {},
     "output_type": "execute_result"
    }
   ],
   "source": [
    "## Create arrays and reshape\n",
    "\n",
    "np.arange(0,10).reshape(5,2)"
   ]
  },
  {
   "cell_type": "code",
   "execution_count": 60,
   "id": "91e05fee",
   "metadata": {},
   "outputs": [
    {
     "data": {
      "text/plain": [
       "array([[0.11572159, 0.25300378, 0.67554262],\n",
       "       [0.68609833, 0.80303479, 0.93465382],\n",
       "       [0.57283507, 0.4175616 , 0.58921459]])"
      ]
     },
     "execution_count": 60,
     "metadata": {},
     "output_type": "execute_result"
    }
   ],
   "source": [
    "## Random distribution\n",
    "\n",
    "np.random.rand(3,3\n",
    "              )"
   ]
  },
  {
   "cell_type": "code",
   "execution_count": 61,
   "id": "fa2a8129",
   "metadata": {},
   "outputs": [],
   "source": [
    "arr_ex = np.random.randn(4,4)"
   ]
  },
  {
   "cell_type": "code",
   "execution_count": 62,
   "id": "eda2cd3c",
   "metadata": {},
   "outputs": [
    {
     "data": {
      "text/plain": [
       "array([[-1.49396247,  1.2416923 ,  1.33246348, -1.29959944],\n",
       "       [-1.07404788,  0.60811337, -0.36164405,  0.83143184],\n",
       "       [ 1.27204386, -0.69823986, -0.00616911,  0.55731189],\n",
       "       [-0.37813979, -0.60802793, -0.62624131,  1.29193433]])"
      ]
     },
     "execution_count": 62,
     "metadata": {},
     "output_type": "execute_result"
    }
   ],
   "source": [
    "arr_ex"
   ]
  },
  {
   "cell_type": "code",
   "execution_count": 67,
   "id": "ba1f9c73",
   "metadata": {},
   "outputs": [],
   "source": [
    "import seaborn as sns\n",
    "import pandas as pd"
   ]
  },
  {
   "cell_type": "code",
   "execution_count": 68,
   "id": "c0b98f8b",
   "metadata": {},
   "outputs": [
    {
     "data": {
      "text/plain": [
       "<seaborn.axisgrid.FacetGrid at 0x2c37ac40af0>"
      ]
     },
     "execution_count": 68,
     "metadata": {},
     "output_type": "execute_result"
    },
    {
     "data": {
      "image/png": "[encoded data removed]",
      "text/plain": [
       "<Figure size 402.375x360 with 1 Axes>"
      ]
     },
     "metadata": {
      "needs_background": "light"
     },
     "output_type": "display_data"
    }
   ],
   "source": [
    "sns.displot(pd.DataFrame(arr_ex.reshape(16,1)))"
   ]
  },
  {
   "cell_type": "code",
   "execution_count": 69,
   "id": "232e2589",
   "metadata": {},
   "outputs": [],
   "source": [
    "## Thats it for today :))"
   ]
  },
  {
   "cell_type": "code",
   "execution_count": null,
   "id": "16d35ba4",
   "metadata": {},
   "outputs": [],
   "source": []
  }
 ],
 "metadata": {
  "kernelspec": {
   "display_name": "Python 3 (ipykernel)",
   "language": "python",
   "name": "python3"
  },
  "language_info": {
   "codemirror_mode": {
    "name": "ipython",
    "version": 3
   },
   "file_extension": ".py",
   "mimetype": "text/x-python",
   "name": "python",
   "nbconvert_exporter": "python",
   "pygments_lexer": "ipython3",
   "version": "3.9.7"
  }
 },
 "nbformat": 4,
 "nbformat_minor": 5
}
